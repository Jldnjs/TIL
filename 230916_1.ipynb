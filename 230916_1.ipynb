{
  "nbformat": 4,
  "nbformat_minor": 0,
  "metadata": {
    "colab": {
      "provenance": [],
      "authorship_tag": "ABX9TyPDx4KtZMWlvMshQiEjAS77",
      "include_colab_link": true
    },
    "kernelspec": {
      "name": "python3",
      "display_name": "Python 3"
    },
    "language_info": {
      "name": "python"
    }
  },
  "cells": [
    {
      "cell_type": "markdown",
      "metadata": {
        "id": "view-in-github",
        "colab_type": "text"
      },
      "source": [
        "<a href=\"https://colab.research.google.com/github/Jldnjs/TIL/blob/main/230916_1.ipynb\" target=\"_parent\"><img src=\"https://colab.research.google.com/assets/colab-badge.svg\" alt=\"Open In Colab\"/></a>"
      ]
    },
    {
      "cell_type": "markdown",
      "source": [
        "# 스택"
      ],
      "metadata": {
        "id": "pFjEx3BckS1P"
      }
    },
    {
      "cell_type": "code",
      "execution_count": 1,
      "metadata": {
        "id": "wu6Hfo2_iJJX"
      },
      "outputs": [],
      "source": [
        "class Stack(list):\n",
        "  push = list.append\n",
        "  pop = list.pop\n",
        "\n",
        "  def is_empty(self):\n",
        "    if not self :\n",
        "      return True\n",
        "    else:\n",
        "      return False"
      ]
    },
    {
      "cell_type": "code",
      "source": [
        "stack = Stack()\n",
        "stack.push(1)\n",
        "print(\"stack\",stack)\n",
        "stack.push(2)\n",
        "print(\"stack\",stack)\n",
        "stack.push(3)\n",
        "print(\"stack\",stack)\n",
        "stack.pop()\n",
        "print(\"stack\",stack)"
      ],
      "metadata": {
        "colab": {
          "base_uri": "https://localhost:8080/"
        },
        "id": "DjdEEm1fj3Vf",
        "outputId": "5098c78a-0126-4b56-f289-1d3c9ea2ea75"
      },
      "execution_count": 3,
      "outputs": [
        {
          "output_type": "stream",
          "name": "stdout",
          "text": [
            "stack [1]\n",
            "stack [1, 2]\n",
            "stack [1, 2, 3]\n",
            "stack [1, 2]\n"
          ]
        }
      ]
    },
    {
      "cell_type": "markdown",
      "source": [
        "# 큐\n",
        "\n",
        "\n",
        "- put : 큐에 자료를 넣는 것\n",
        "- get : 큐에서 자료를 꺼내는 것\n",
        "- front : 데이터를 get할 수 있는 위치\n",
        "- rear : 데이터를 put할 수 있는 위치\n",
        "- Overflow : 큐가 꽉 차서 더 이상 자료를 넣을 수 없는 경우\n",
        "- Underflow : 큐가 비어 있어 자료를 꺼낼 수 없는 경우\n"
      ],
      "metadata": {
        "id": "iyvwjD9tkWGG"
      }
    },
    {
      "cell_type": "markdown",
      "source": [
        "# 선택정렬\n",
        "\n",
        ": 제자리 비교 정렬. 복잡도는 O(n2). 큰 리스트에 비효율적.\n",
        "<br>\n",
        "최소값 찾고 값을 최초 위치와 바꿔친 다음 리스트의 나머지 부분에 대해 이 과정 반복.- 교환 과정은 n개를 넘지않음.\n"
      ],
      "metadata": {
        "id": "KEA_cHD7yDLi"
      }
    },
    {
      "cell_type": "code",
      "source": [
        "def 최솟값_인덱스_리턴_함수 (입력_리스트_둘):\n",
        "  최솟값인덱스 = 0\n",
        "  for 증가값 in range(0,len(입력_리스트_둘)):\n",
        "    if 입력_리스트_둘[증가값] < 입력_리스트_둘[최솟값인덱스]:\n",
        "      최솟값인덱스 = 증가값\n",
        "    return 최솟값인덱스\n",
        "\n",
        "\n",
        "def 선택정렬(입력_리스트_하나):\n",
        "  최종결과값 = []\n",
        "  while 입력_리스트_하나:\n",
        "    최솟값_인덱스_저장 = 최솟값_인덱스_리턴_함수(입력_리스트_하나)\n",
        "    최솟값 = 입력_리스트_하나.pop(최솟값_인덱스_저장)\n",
        "    최종결과값.append(최솟값)\n",
        "  return 최종결과값\n",
        "\n",
        "주어진리스트 = ['개구리','거위','고릴라','기린','닭','말','북극곰','얼룩말','코끼리']\n",
        "print(선택정렬(주어진리스트))"
      ],
      "metadata": {
        "colab": {
          "base_uri": "https://localhost:8080/"
        },
        "id": "pYytTxHzkBCF",
        "outputId": "20c32aa6-7268-4662-8542-4bce906f58a4"
      },
      "execution_count": 4,
      "outputs": [
        {
          "output_type": "stream",
          "name": "stdout",
          "text": [
            "['개구리', '거위', '고릴라', '기린', '닭', '말', '북극곰', '얼룩말', '코끼리']\n"
          ]
        }
      ]
    },
    {
      "cell_type": "markdown",
      "source": [
        "# 트리\n",
        ": 탐색알고리즘 구현에 많이 사용\n",
        "<br>\n",
        "- Node : 트리에서 데이터를 가지고 있는 기본 요소\n",
        "- Root Node (뿌리 노드) :  트리에서 가장 위에 있는 노드\n",
        "- Parent Node (부모 노드) : 한 노드에 연결된 이전 노드\n",
        "- Child Node (자식 노드)  : 한 노드에 연결된 상위 Level의 노드\n",
        "- Leaf Node (Terminal Node)  : Child Node가 없는 노드\n",
        "- Sibling (형제) : 같은 Parent Node를 가진 노드\n",
        "- Level : 노드의 깊이를 나타낸다. 가장 위에 위치한 노드를 Level 0으로 하고 하위 Branch로 내려갈 수 록 Level이 올라간다.\n",
        "- Depth (깊이) : 한 트리에서 가질 수 있는 Level\n"
      ],
      "metadata": {
        "id": "3A9kzu4T07ca"
      }
    },
    {
      "cell_type": "markdown",
      "source": [
        "## 이진트리\n",
        "\n",
        ": 자식 노드가 최대 두 개인 노드들로 구성된 트리.\n",
        "<br>\n",
        "- 각 노드에 값이 있다.\n",
        "- 값들은 전순서가 있다.\n",
        "- 노드의 왼쪽 서브트리에는 그 노드의 값보다 작은 값들을 지닌 노드들로 이루어져 있다.\n",
        "- 노드의 오른쪽 서브트리에는 그 노드의 값과 같거나 큰 값들을 지닌 노드들로 이루어져 있다.\n",
        "- 좌우 하위 트리는 각각이 다시 이진 탐색 트리여야 한다.\n",
        "\n",
        "### 포화이진트리\n",
        ": 모든 노드가 두 개의 자식 노드 가지며 모든 잎 노드가 동일한 레벨 갖는 트리\n",
        "\n",
        "### 완전이진트리\n",
        ": 마지막 레벨 제외한 모든 레벨 완전함. 마지막 레벨에서는 왼쪽부터 노드가 순서대로 채워져있음."
      ],
      "metadata": {
        "id": "yc8aT5El1kt5"
      }
    },
    {
      "cell_type": "code",
      "source": [],
      "metadata": {
        "id": "ceKCzwr71keZ"
      },
      "execution_count": null,
      "outputs": []
    },
    {
      "cell_type": "code",
      "source": [],
      "metadata": {
        "id": "wnxSAaXr0ux0"
      },
      "execution_count": null,
      "outputs": []
    }
  ]
}